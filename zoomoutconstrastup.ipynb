{
 "cells": [
  {
   "cell_type": "code",
   "execution_count": null,
   "id": "25a09177",
   "metadata": {},
   "outputs": [],
   "source": [
    "def cont_aug(foldername):\n",
    "    array_of_images = glob.glob(foldername + \"/*.jpg\") \n",
    "    for image in array_of_images:\n",
    "        img = cv2.imread(image)\n",
    "        img_name = image.split(foldername+\"\\\\\")[1].split(\".jpg\")[0]\n",
    "        cont_image(img,img_name)\n",
    "        \n",
    "def cont_image(src,img_name):\n",
    "    file = src\n",
    "    im = Image.open(folder+\"/\"+img_name+\".jpg\")\n",
    "    enhancer = ImageEnhance.Contrast(im)\n",
    "    factor = 0.75 #decrease constrast\n",
    "    im_output = enhancer.enhance(factor)\n",
    "    im_output.save(folder + \"/\"+img_name+\"-lesscontrast\" + Extension)\n",
    "    factor = 1.25 #increase contrast\n",
    "    im_output = enhancer.enhance(factor)\n",
    "    im_output.save(folder + \"/\"+img_name+\"-morecontrast\" + Extension)"
   ]
  },
  {
   "cell_type": "code",
   "execution_count": null,
   "id": "79c1f5a2",
   "metadata": {},
   "outputs": [],
   "source": [
    "def zoom_aug(foldername):\n",
    "    array_of_images = glob.glob(foldername + \"/*.jpg\") \n",
    "    for image in array_of_images:\n",
    "        img = cv2.imread(image)\n",
    "        img_name = image.split(foldername+\"\\\\\")[1].split(\".jpg\")[0]\n",
    "        zoom_image(img,img_name)\n",
    "        \n",
    "def zoom_image(src,img_name):\n",
    "    scaleX = 0.5\n",
    "    scaleY = 0.5\n",
    "    scaleDown = cv2.resize(src, None, fx= scaleX, fy= scaleY, interpolation= cv2.INTER_LINEAR)\n",
    "    cv2.imwrite(folder + \"/\"+img_name+\"-zoomout\" + Extension, scaleDown)\n",
    "    scaleUp = cv2.resize(src, None, fx= scaleX*3, fy= scaleY*3, interpolation= cv2.INTER_LINEAR)\n",
    "    cv2.imwrite(folder + \"/\"+img_name+\"-zoomin\" + Extension, scaleUp)"
   ]
  }
 ],
 "metadata": {
  "kernelspec": {
   "display_name": "Python 3 (ipykernel)",
   "language": "python",
   "name": "python3"
  },
  "language_info": {
   "codemirror_mode": {
    "name": "ipython",
    "version": 3
   },
   "file_extension": ".py",
   "mimetype": "text/x-python",
   "name": "python",
   "nbconvert_exporter": "python",
   "pygments_lexer": "ipython3",
   "version": "3.9.13"
  }
 },
 "nbformat": 4,
 "nbformat_minor": 5
}
